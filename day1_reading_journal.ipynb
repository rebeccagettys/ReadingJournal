{
 "cells": [
  {
   "cell_type": "markdown",
   "metadata": {},
   "source": [
    "# Day 1 Reading Journal\n",
    "\n",
    "Hi everyone.  These are the exercises for the first set of readings from ThinkPython.  While this journal consists of several required exercises, it is meant to encourage active reading more generally.  You should use this journal to take detailed notes, catalog questions, and explore the content from ThinkPython deeply.\n",
    "\n",
    "For more information on using the Jupyter notebook, check out the documentation [here](http://nbviewer.jupyter.org/github/jupyter/notebook/blob/master/docs/source/examples/Notebook/Examples%20and%20Tutorials%20Index.ipynb).  Additionally, in order to write text in this document, you will be making use of markdown cells. A handy cheatsheet for markdown is available [here](https://github.com/adam-p/markdown-here/wiki/Markdown-Cheatsheet)."
   ]
  },
  {
   "cell_type": "markdown",
   "metadata": {},
   "source": [
    "## Chapter 1\n",
    "\n",
    "Note: the exercise numbers below match up with the reading for ease of cross referencing.\n",
    "Source -> Compiler -> assembly (all at once) - binary\n",
    "Source -> Interpreter -> assembly instructions as needed (piece by piece)\n",
    "python interactive mode like BASH; script mode like a BASH script\n",
    " conditional execution -> if condition is true, then do whatever (if, then or if then else)"
   ]
  },
  {
   "cell_type": "markdown",
   "metadata": {},
   "source": [
    "### Exercise 3\n",
    "\n",
    "Type `help()` to start the online help utility. Or you can type help('print') to get information about the print statement.  You should type `q` and then hit `enter` in the text box to exit the help utility. \n",
    "\n",
    "Note: this exercise is pretty simple (and there's not much to put in the box)!  We just want to make sure that you have tried out this super-handy feature of Python!"
   ]
  },
  {
   "cell_type": "code",
   "execution_count": 3,
   "metadata": {
    "collapsed": false
   },
   "outputs": [
    {
     "name": "stdout",
     "output_type": "stream",
     "text": [
      "\n",
      "Welcome to Python 2.7!  This is the online help utility.\n",
      "\n",
      "If this is your first time using Python, you should definitely check out\n",
      "the tutorial on the Internet at http://docs.python.org/2.7/tutorial/.\n",
      "\n",
      "Enter the name of any module, keyword, or topic to get help on writing\n",
      "Python programs and using Python modules.  To quit this help utility and\n",
      "return to the interpreter, just type \"quit\".\n",
      "\n",
      "To get a list of available modules, keywords, or topics, type \"modules\",\n",
      "\"keywords\", or \"topics\".  Each module also comes with a one-line summary\n",
      "of what it does; to list the modules whose summaries contain a given word\n",
      "such as \"spam\", type \"modules spam\".\n",
      "\n",
      "help> q\n",
      "\n",
      "You are now leaving help and returning to the Python interpreter.\n",
      "If you want to ask for help on a particular object directly from the\n",
      "interpreter, you can type \"help(object)\".  Executing \"help('string')\"\n",
      "has the same effect as typing a particular string at the help> prompt.\n"
     ]
    }
   ],
   "source": [
    "help ()\n"
   ]
  },
  {
   "cell_type": "markdown",
   "metadata": {},
   "source": [
    "### Exercise 4  \n",
    "\n",
    "Start the Python interpreter and use it as a calculator. Python’s syntax for math operations is almost the same as standard mathematical notation. For example, the symbols +, - and / denote addition, subtraction and division, as you would expect. The symbol for multiplication is *.\n",
    "\n",
    "If you run a 10 kilometer race in 43 minutes 30 seconds, what is your average time per mile? What is your average speed in miles per hour? (Hint: there are 1.61 kilometers in a mile). \n",
    "Find out number of miles:"
   ]
  },
  {
   "cell_type": "code",
   "execution_count": 6,
   "metadata": {
    "collapsed": false
   },
   "outputs": [
    {
     "data": {
      "text/plain": [
       "16.1"
      ]
     },
     "execution_count": 6,
     "metadata": {},
     "output_type": "execute_result"
    }
   ],
   "source": [
    "10*1.61"
   ]
  },
  {
   "cell_type": "markdown",
   "metadata": {},
   "source": [
    "So 16.1 miles in 43.5 minutes:"
   ]
  },
  {
   "cell_type": "code",
   "execution_count": 1,
   "metadata": {
    "collapsed": false
   },
   "outputs": [
    {
     "data": {
      "text/plain": [
       "2.701863354037267"
      ]
     },
     "execution_count": 1,
     "metadata": {},
     "output_type": "execute_result"
    }
   ],
   "source": [
    "43.5/16.1\n"
   ]
  },
  {
   "cell_type": "markdown",
   "metadata": {},
   "source": [
    "So the average time per mile was 2.70 minutes per mile.\n",
    "To find MPH"
   ]
  },
  {
   "cell_type": "code",
   "execution_count": 2,
   "metadata": {
    "collapsed": false
   },
   "outputs": [
    {
     "data": {
      "text/plain": [
       "22.206896551724142"
      ]
     },
     "execution_count": 2,
     "metadata": {},
     "output_type": "execute_result"
    }
   ],
   "source": [
    "16.1/(43.5/60)"
   ]
  },
  {
   "cell_type": "markdown",
   "metadata": {},
   "source": [
    "So the runner's speed was 22 miles per hour (excessively speedy). "
   ]
  },
  {
   "cell_type": "markdown",
   "metadata": {},
   "source": [
    "## Chapter 2\n",
    "angry debug errors? check that variables are named correctly and not a keyword\n",
    "can't have spaces in variables, and like in c no capital letters in first word of variable\n",
    "python math follows PEMDAS (yay!)\n",
    "division symbol does floor division if it's 1 integer and 1 float -> // solves that or convert all to float ahead of time\n",
    "concatination works just like matlab does it with matrices, but PYTHON does it with strings; * is repitition of the string\n",
    "otherwise: really just like matlab or css or c just different syntax so far (because all we are doing is math)"
   ]
  },
  {
   "cell_type": "markdown",
   "metadata": {},
   "source": [
    "### Exercise 2  \n",
    "\n",
    "Assume that we execute the following assignment statements:\n",
    "\n",
    "width = 17\n",
    "height = 12.0\n",
    "delimiter = '.'\n",
    "\n",
    "For each of the following expressions, write the value of the expression and the type (of the value of the expression).\n",
    "\n",
    "1. `width/2`\n",
    "2. `width/2.0`\n",
    "3. `height/3`\n",
    "4. `1 + 2 * 5`\n",
    "5. `delimiter * 5`\n",
    "\n",
    "Please use the following markdown cell to provide your answer."
   ]
  },
  {
   "cell_type": "markdown",
   "metadata": {},
   "source": [
    "1. 9 (integer - b/c floor division)\n",
    "2. 8.5 (float)\n",
    "3. 4.0 (float)\n",
    "4. 11 (integer)\n",
    "5. ..... (string)"
   ]
  },
  {
   "cell_type": "code",
   "execution_count": 9,
   "metadata": {
    "collapsed": false
   },
   "outputs": [
    {
     "data": {
      "text/plain": [
       "'.....'"
      ]
     },
     "execution_count": 9,
     "metadata": {},
     "output_type": "execute_result"
    }
   ],
   "source": [
    "delimiter = '.'\n",
    "delimiter  * 5"
   ]
  },
  {
   "cell_type": "markdown",
   "metadata": {},
   "source": [
    "### Exercise 3  \n",
    "\n",
    "Practice using the Python interpreter as a calculator.  For each of these provide Python code that computes each answer.\n",
    "\n",
    "\n",
    "So I really need to make sure I make 2 = 2.0 if I don't want wierd lopity things happening (I need to treat math-y things as floats not integers)\n",
    "\n",
    "    \n"
   ]
  },
  {
   "cell_type": "markdown",
   "metadata": {},
   "source": [
    "The volume of a sphere with radius r is 4/3 $\\pi r^3$. What is the volume of a sphere with radius 5? Hint: 392.7 is wrong!"
   ]
  },
  {
   "cell_type": "code",
   "execution_count": 19,
   "metadata": {
    "collapsed": false
   },
   "outputs": [
    {
     "name": "stdout",
     "output_type": "stream",
     "text": [
      "392.5\n"
     ]
    }
   ],
   "source": [
    "r = 5.0\n",
    "a = (4.0//3.0)\n",
    "vol = a*pi*r*r*r\n",
    "print vol"
   ]
  },
  {
   "cell_type": "markdown",
   "metadata": {},
   "source": [
    "This problem (above, the volume one) makes me uneasy. Not sure why. "
   ]
  },
  {
   "cell_type": "markdown",
   "metadata": {},
   "source": [
    "Suppose the cover price of a book is \\$24.95, but bookstores get a 40% discount. Shipping costs \\$3 for the first copy and 75 cents for each additional copy. What is the total wholesale cost for 60 copies?"
   ]
  },
  {
   "cell_type": "code",
   "execution_count": 20,
   "metadata": {
    "collapsed": false
   },
   "outputs": [
    {
     "data": {
      "text/plain": [
       "945.4499999999999"
      ]
     },
     "execution_count": 20,
     "metadata": {},
     "output_type": "execute_result"
    }
   ],
   "source": [
    "(.6*24.95)*60 + 3.0 + 59.0*.75"
   ]
  },
  {
   "cell_type": "markdown",
   "metadata": {},
   "source": [
    "If I leave my house at 6:52 am and run 1 mile at an easy pace (8:15 per mile), then 3 miles at tempo (7:12 per mile) and 1 mile at easy pace again, what time do I get home for breakfast? "
   ]
  },
  {
   "cell_type": "code",
   "execution_count": 24,
   "metadata": {
    "collapsed": false,
    "scrolled": true
   },
   "outputs": [
    {
     "name": "stdout",
     "output_type": "stream",
     "text": [
      "30.1\n"
     ]
    }
   ],
   "source": [
    "time = 2.0*8.25 + 3.0*(7.2)\n",
    "after7 = time - 8.0\n",
    "print after7"
   ]
  },
  {
   "cell_type": "code",
   "execution_count": 46,
   "metadata": {
    "collapsed": false
   },
   "outputs": [
    {
     "data": {
      "text/plain": [
       "6.0"
      ]
     },
     "execution_count": 46,
     "metadata": {},
     "output_type": "execute_result"
    }
   ],
   "source": [
    ".1*60.0"
   ]
  },
  {
   "cell_type": "markdown",
   "metadata": {},
   "source": [
    "You arrive home for breakfast at 7:30:06.  (the second statement evalates seconds)"
   ]
  },
  {
   "cell_type": "markdown",
   "metadata": {},
   "source": [
    "## Chapter 3\n",
    "variables are LOCAL\n",
    "also don't forget dot notation for things INSIDE a module!!!\n",
    "function input is formally called an argument\n",
    "and as always, comment your code\n",
    "if things are syntaxing out: you forgot a colon??\n",
    "this is pretty much like MATLAB so far but it is more picky about syntax: if colons or indents are left out, CRANKY python :/"
   ]
  },
  {
   "cell_type": "markdown",
   "metadata": {},
   "source": [
    "### Exercise 3\n",
    "\n",
    "Python provides a built-in function called len that returns the length of a string, so the value of len('allen') is 5.\n",
    "Write a function named right_justify that takes a string named s as a parameter and prints the string with enough leading spaces so that the last letter of the string is in column 70 of the display.\n",
    "\n",
    "```\n",
    ">>> right_justify('allen')\n",
    "                                                                 allen```"
   ]
  },
  {
   "cell_type": "code",
   "execution_count": 31,
   "metadata": {
    "collapsed": false
   },
   "outputs": [
    {
     "name": "stdout",
     "output_type": "stream",
     "text": [
      "                                                                  anna\n"
     ]
    }
   ],
   "source": [
    "def right_justify(s):\n",
    "    stringlength = len (s)\n",
    "    addspacelength = 70 - stringlength\n",
    "    newspacestring = ' '* addspacelength\n",
    "    newstring = newspacestring + s\n",
    "    print newstring\n",
    "right_justify('anna')\n",
    "\n",
    "    "
   ]
  },
  {
   "cell_type": "markdown",
   "metadata": {},
   "source": [
    "### Exercise 5\n",
    "\n",
    "This exercise can be done using only the statements and other features we have learned so far.\n",
    "\n",
    "(a) Write a function that draws a grid like the following:\n",
    "```\n",
    "+ - - - - + - - - - +\n",
    "|         |         |\n",
    "|         |         |\n",
    "|         |         |\n",
    "|         |         |\n",
    "+ - - - - + - - - - +\n",
    "|         |         |\n",
    "|         |         |\n",
    "|         |         |\n",
    "|         |         |\n",
    "+ - - - - + - - - - +\n",
    "```\n",
    "**Hint:** to print more than one value on a line, you can print a comma-separated sequence:\n",
    "print '+', '-'\n",
    "If the sequence ends with a comma, Python leaves the line unfinished, so the value printed next appears on the same line.\n",
    "print '+', \n",
    "print '-'\n",
    "The output of these statements is '+ -'.\n",
    "A print statement all by itself ends the current line and goes to the next line."
   ]
  },
  {
   "cell_type": "code",
   "execution_count": 38,
   "metadata": {
    "collapsed": false
   },
   "outputs": [
    {
     "name": "stdout",
     "output_type": "stream",
     "text": [
      "+ - - - - + - - - - +\n",
      "|         |         |\n",
      "|         |         |\n",
      "|         |         |\n",
      "|         |         |\n",
      "+ - - - - + - - - - +\n",
      "|         |         |\n",
      "|         |         |\n",
      "|         |         |\n",
      "|         |         |\n",
      "+ - - - - + - - - - +\n"
     ]
    }
   ],
   "source": [
    "def printyfunc():\n",
    "    print '+',\n",
    "    print '-',\n",
    "    print '-', \n",
    "    print '-', \n",
    "    print '-', \n",
    "    print '+', \n",
    "    print '-', \n",
    "    print '-', \n",
    "    print '-', \n",
    "    print '-', \n",
    "    print '+'\n",
    "    print '|',\n",
    "    print ' ',\n",
    "    print ' ',\n",
    "    print ' ',\n",
    "    print ' ',\n",
    "    print '|',\n",
    "    print ' ',\n",
    "    print ' ',\n",
    "    print ' ',\n",
    "    print ' ',\n",
    "    print '|'\n",
    "    print '|',\n",
    "    print ' ',\n",
    "    print ' ',\n",
    "    print ' ',\n",
    "    print ' ',\n",
    "    print '|',\n",
    "    print ' ',\n",
    "    print ' ',\n",
    "    print ' ',\n",
    "    print ' ',\n",
    "    print '|'\n",
    "    print '|',\n",
    "    print ' ',\n",
    "    print ' ',\n",
    "    print ' ',\n",
    "    print ' ',\n",
    "    print '|',\n",
    "    print ' ',\n",
    "    print ' ',\n",
    "    print ' ',\n",
    "    print ' ',\n",
    "    print '|'\n",
    "    print '|',\n",
    "    print ' ',\n",
    "    print ' ',\n",
    "    print ' ',\n",
    "    print ' ',\n",
    "    print '|',\n",
    "    print ' ',\n",
    "    print ' ',\n",
    "    print ' ',\n",
    "    print ' ',\n",
    "    print '|'\n",
    "    print '+',\n",
    "    print '-',\n",
    "    print '-', \n",
    "    print '-', \n",
    "    print '-', \n",
    "    print '+', \n",
    "    print '-', \n",
    "    print '-', \n",
    "    print '-', \n",
    "    print '-', \n",
    "    print '+'\n",
    "    print '|',\n",
    "    print ' ',\n",
    "    print ' ',\n",
    "    print ' ',\n",
    "    print ' ',\n",
    "    print '|',\n",
    "    print ' ',\n",
    "    print ' ',\n",
    "    print ' ',\n",
    "    print ' ',\n",
    "    print '|'\n",
    "    print '|',\n",
    "    print ' ',\n",
    "    print ' ',\n",
    "    print ' ',\n",
    "    print ' ',\n",
    "    print '|',\n",
    "    print ' ',\n",
    "    print ' ',\n",
    "    print ' ',\n",
    "    print ' ',\n",
    "    print '|'\n",
    "    print '|',\n",
    "    print ' ',\n",
    "    print ' ',\n",
    "    print ' ',\n",
    "    print ' ',\n",
    "    print '|',\n",
    "    print ' ',\n",
    "    print ' ',\n",
    "    print ' ',\n",
    "    print ' ',\n",
    "    print '|'\n",
    "    print '|',\n",
    "    print ' ',\n",
    "    print ' ',\n",
    "    print ' ',\n",
    "    print ' ',\n",
    "    print '|',\n",
    "    print ' ',\n",
    "    print ' ',\n",
    "    print ' ',\n",
    "    print ' ',\n",
    "    print '|'\n",
    "    print '+',\n",
    "    print '-',\n",
    "    print '-', \n",
    "    print '-', \n",
    "    print '-', \n",
    "    print '+', \n",
    "    print '-', \n",
    "    print '-', \n",
    "    print '-', \n",
    "    print '-', \n",
    "    print '+'  \n",
    "printyfunc()"
   ]
  },
  {
   "cell_type": "markdown",
   "metadata": {},
   "source": [
    "(b) Write a function that draws a similar grid with four rows and four columns."
   ]
  },
  {
   "cell_type": "code",
   "execution_count": 44,
   "metadata": {
    "collapsed": false
   },
   "outputs": [
    {
     "name": "stdout",
     "output_type": "stream",
     "text": [
      "+ - - - - + - - - - + - - - - + - - - - +\n",
      "|         |         |         |         |\n",
      "|         |         |         |         |\n",
      "|         |         |         |         |\n",
      "|         |         |         |         |\n",
      "+ - - - - + - - - - + - - - - + - - - - +\n",
      "|         |         |         |         |\n",
      "|         |         |         |         |\n",
      "|         |         |         |         |\n",
      "|         |         |         |         |\n",
      "+ - - - - + - - - - + - - - - + - - - - +\n",
      "|         |         |         |         |\n",
      "|         |         |         |         |\n",
      "|         |         |         |         |\n",
      "|         |         |         |         |\n",
      "+ - - - - + - - - - + - - - - + - - - - +\n",
      "|         |         |         |         |\n",
      "|         |         |         |         |\n",
      "|         |         |         |         |\n",
      "|         |         |         |         |\n",
      "+ - - - - + - - - - + - - - - + - - - - +\n"
     ]
    }
   ],
   "source": [
    "\n",
    "def printyfunc():\n",
    "    print '+',\n",
    "    print '-',\n",
    "    print '-', \n",
    "    print '-', \n",
    "    print '-', \n",
    "    print '+', \n",
    "    print '-', \n",
    "    print '-', \n",
    "    print '-', \n",
    "    print '-', \n",
    "    print '+',\n",
    "    print '-',\n",
    "    print '-', \n",
    "    print '-', \n",
    "    print '-', \n",
    "    print '+', \n",
    "    print '-', \n",
    "    print '-', \n",
    "    print '-', \n",
    "    print '-', \n",
    "    print '+' \n",
    "    print '|',\n",
    "    print ' ',\n",
    "    print ' ',\n",
    "    print ' ',\n",
    "    print ' ',\n",
    "    print '|',\n",
    "    print ' ',\n",
    "    print ' ',\n",
    "    print ' ',\n",
    "    print ' ',\n",
    "    print '|',\n",
    "    print ' ',\n",
    "    print ' ',\n",
    "    print ' ',\n",
    "    print ' ',\n",
    "    print '|',\n",
    "    print ' ',\n",
    "    print ' ',\n",
    "    print ' ',\n",
    "    print ' ',\n",
    "    print '|'\n",
    "    print '|',\n",
    "    print ' ',\n",
    "    print ' ',\n",
    "    print ' ',\n",
    "    print ' ',\n",
    "    print '|',\n",
    "    print ' ',\n",
    "    print ' ',\n",
    "    print ' ',\n",
    "    print ' ',\n",
    "    print '|',\n",
    "    print ' ',\n",
    "    print ' ',\n",
    "    print ' ',\n",
    "    print ' ',\n",
    "    print '|',\n",
    "    print ' ',\n",
    "    print ' ',\n",
    "    print ' ',\n",
    "    print ' ',\n",
    "    print '|'\n",
    "    print '|',\n",
    "    print ' ',\n",
    "    print ' ',\n",
    "    print ' ',\n",
    "    print ' ',\n",
    "    print '|',\n",
    "    print ' ',\n",
    "    print ' ',\n",
    "    print ' ',\n",
    "    print ' ',\n",
    "    print '|',\n",
    "    print ' ',\n",
    "    print ' ',\n",
    "    print ' ',\n",
    "    print ' ',\n",
    "    print '|',\n",
    "    print ' ',\n",
    "    print ' ',\n",
    "    print ' ',\n",
    "    print ' ',\n",
    "    print '|'\n",
    "    print '|',\n",
    "    print ' ',\n",
    "    print ' ',\n",
    "    print ' ',\n",
    "    print ' ',\n",
    "    print '|',\n",
    "    print ' ',\n",
    "    print ' ',\n",
    "    print ' ',\n",
    "    print ' ',\n",
    "    print '|',\n",
    "    print ' ',\n",
    "    print ' ',\n",
    "    print ' ',\n",
    "    print ' ',\n",
    "    print '|',\n",
    "    print ' ',\n",
    "    print ' ',\n",
    "    print ' ',\n",
    "    print ' ',\n",
    "    print '|'\n",
    "    print '+',\n",
    "    print '-',\n",
    "    print '-', \n",
    "    print '-', \n",
    "    print '-', \n",
    "    print '+', \n",
    "    print '-', \n",
    "    print '-', \n",
    "    print '-', \n",
    "    print '-', \n",
    "    print '+',\n",
    "    print '-',\n",
    "    print '-', \n",
    "    print '-', \n",
    "    print '-', \n",
    "    print '+', \n",
    "    print '-', \n",
    "    print '-', \n",
    "    print '-', \n",
    "    print '-', \n",
    "    print '+' \n",
    "    print '|',\n",
    "    print ' ',\n",
    "    print ' ',\n",
    "    print ' ',\n",
    "    print ' ',\n",
    "    print '|',\n",
    "    print ' ',\n",
    "    print ' ',\n",
    "    print ' ',\n",
    "    print ' ',\n",
    "    print '|',\n",
    "    print ' ',\n",
    "    print ' ',\n",
    "    print ' ',\n",
    "    print ' ',\n",
    "    print '|',\n",
    "    print ' ',\n",
    "    print ' ',\n",
    "    print ' ',\n",
    "    print ' ',\n",
    "    print '|'\n",
    "    print '|',\n",
    "    print ' ',\n",
    "    print ' ',\n",
    "    print ' ',\n",
    "    print ' ',\n",
    "    print '|',\n",
    "    print ' ',\n",
    "    print ' ',\n",
    "    print ' ',\n",
    "    print ' ',\n",
    "    print '|',\n",
    "    print ' ',\n",
    "    print ' ',\n",
    "    print ' ',\n",
    "    print ' ',\n",
    "    print '|',\n",
    "    print ' ',\n",
    "    print ' ',\n",
    "    print ' ',\n",
    "    print ' ',\n",
    "    print '|'\n",
    "    print '|',\n",
    "    print ' ',\n",
    "    print ' ',\n",
    "    print ' ',\n",
    "    print ' ',\n",
    "    print '|',\n",
    "    print ' ',\n",
    "    print ' ',\n",
    "    print ' ',\n",
    "    print ' ',\n",
    "    print '|',\n",
    "    print ' ',\n",
    "    print ' ',\n",
    "    print ' ',\n",
    "    print ' ',\n",
    "    print '|',\n",
    "    print ' ',\n",
    "    print ' ',\n",
    "    print ' ',\n",
    "    print ' ',\n",
    "    print '|'\n",
    "    print '|',\n",
    "    print ' ',\n",
    "    print ' ',\n",
    "    print ' ',\n",
    "    print ' ',\n",
    "    print '|',\n",
    "    print ' ',\n",
    "    print ' ',\n",
    "    print ' ',\n",
    "    print ' ',\n",
    "    print '|',\n",
    "    print ' ',\n",
    "    print ' ',\n",
    "    print ' ',\n",
    "    print ' ',\n",
    "    print '|',\n",
    "    print ' ',\n",
    "    print ' ',\n",
    "    print ' ',\n",
    "    print ' ',\n",
    "    print '|'\n",
    "    print '+',\n",
    "    print '-',\n",
    "    print '-', \n",
    "    print '-', \n",
    "    print '-', \n",
    "    print '+', \n",
    "    print '-', \n",
    "    print '-', \n",
    "    print '-', \n",
    "    print '-', \n",
    "    print '+',\n",
    "    print '-',\n",
    "    print '-', \n",
    "    print '-', \n",
    "    print '-', \n",
    "    print '+', \n",
    "    print '-', \n",
    "    print '-', \n",
    "    print '-', \n",
    "    print '-', \n",
    "    print '+' \n",
    "    print '|',\n",
    "    print ' ',\n",
    "    print ' ',\n",
    "    print ' ',\n",
    "    print ' ',\n",
    "    print '|',\n",
    "    print ' ',\n",
    "    print ' ',\n",
    "    print ' ',\n",
    "    print ' ',\n",
    "    print '|',\n",
    "    print ' ',\n",
    "    print ' ',\n",
    "    print ' ',\n",
    "    print ' ',\n",
    "    print '|',\n",
    "    print ' ',\n",
    "    print ' ',\n",
    "    print ' ',\n",
    "    print ' ',\n",
    "    print '|'\n",
    "    print '|',\n",
    "    print ' ',\n",
    "    print ' ',\n",
    "    print ' ',\n",
    "    print ' ',\n",
    "    print '|',\n",
    "    print ' ',\n",
    "    print ' ',\n",
    "    print ' ',\n",
    "    print ' ',\n",
    "    print '|',\n",
    "    print ' ',\n",
    "    print ' ',\n",
    "    print ' ',\n",
    "    print ' ',\n",
    "    print '|',\n",
    "    print ' ',\n",
    "    print ' ',\n",
    "    print ' ',\n",
    "    print ' ',\n",
    "    print '|'\n",
    "    print '|',\n",
    "    print ' ',\n",
    "    print ' ',\n",
    "    print ' ',\n",
    "    print ' ',\n",
    "    print '|',\n",
    "    print ' ',\n",
    "    print ' ',\n",
    "    print ' ',\n",
    "    print ' ',\n",
    "    print '|',\n",
    "    print ' ',\n",
    "    print ' ',\n",
    "    print ' ',\n",
    "    print ' ',\n",
    "    print '|',\n",
    "    print ' ',\n",
    "    print ' ',\n",
    "    print ' ',\n",
    "    print ' ',\n",
    "    print '|'\n",
    "    print '|',\n",
    "    print ' ',\n",
    "    print ' ',\n",
    "    print ' ',\n",
    "    print ' ',\n",
    "    print '|',\n",
    "    print ' ',\n",
    "    print ' ',\n",
    "    print ' ',\n",
    "    print ' ',\n",
    "    print '|',\n",
    "    print ' ',\n",
    "    print ' ',\n",
    "    print ' ',\n",
    "    print ' ',\n",
    "    print '|',\n",
    "    print ' ',\n",
    "    print ' ',\n",
    "    print ' ',\n",
    "    print ' ',\n",
    "    print '|'\n",
    "    print '+',\n",
    "    print '-',\n",
    "    print '-', \n",
    "    print '-', \n",
    "    print '-', \n",
    "    print '+', \n",
    "    print '-', \n",
    "    print '-', \n",
    "    print '-', \n",
    "    print '-', \n",
    "    print '+',\n",
    "    print '-',\n",
    "    print '-', \n",
    "    print '-', \n",
    "    print '-', \n",
    "    print '+', \n",
    "    print '-', \n",
    "    print '-', \n",
    "    print '-', \n",
    "    print '-', \n",
    "    print '+' \n",
    "    print '|',\n",
    "    print ' ',\n",
    "    print ' ',\n",
    "    print ' ',\n",
    "    print ' ',\n",
    "    print '|',\n",
    "    print ' ',\n",
    "    print ' ',\n",
    "    print ' ',\n",
    "    print ' ',\n",
    "    print '|',\n",
    "    print ' ',\n",
    "    print ' ',\n",
    "    print ' ',\n",
    "    print ' ',\n",
    "    print '|',\n",
    "    print ' ',\n",
    "    print ' ',\n",
    "    print ' ',\n",
    "    print ' ',\n",
    "    print '|'\n",
    "    print '|',\n",
    "    print ' ',\n",
    "    print ' ',\n",
    "    print ' ',\n",
    "    print ' ',\n",
    "    print '|',\n",
    "    print ' ',\n",
    "    print ' ',\n",
    "    print ' ',\n",
    "    print ' ',\n",
    "    print '|',\n",
    "    print ' ',\n",
    "    print ' ',\n",
    "    print ' ',\n",
    "    print ' ',\n",
    "    print '|',\n",
    "    print ' ',\n",
    "    print ' ',\n",
    "    print ' ',\n",
    "    print ' ',\n",
    "    print '|'\n",
    "    print '|',\n",
    "    print ' ',\n",
    "    print ' ',\n",
    "    print ' ',\n",
    "    print ' ',\n",
    "    print '|',\n",
    "    print ' ',\n",
    "    print ' ',\n",
    "    print ' ',\n",
    "    print ' ',\n",
    "    print '|',\n",
    "    print ' ',\n",
    "    print ' ',\n",
    "    print ' ',\n",
    "    print ' ',\n",
    "    print '|',\n",
    "    print ' ',\n",
    "    print ' ',\n",
    "    print ' ',\n",
    "    print ' ',\n",
    "    print '|'\n",
    "    print '|',\n",
    "    print ' ',\n",
    "    print ' ',\n",
    "    print ' ',\n",
    "    print ' ',\n",
    "    print '|',\n",
    "    print ' ',\n",
    "    print ' ',\n",
    "    print ' ',\n",
    "    print ' ',\n",
    "    print '|',\n",
    "    print ' ',\n",
    "    print ' ',\n",
    "    print ' ',\n",
    "    print ' ',\n",
    "    print '|',\n",
    "    print ' ',\n",
    "    print ' ',\n",
    "    print ' ',\n",
    "    print ' ',\n",
    "    print '|'\n",
    "    print '+',\n",
    "    print '-',\n",
    "    print '-', \n",
    "    print '-', \n",
    "    print '-', \n",
    "    print '+', \n",
    "    print '-', \n",
    "    print '-', \n",
    "    print '-', \n",
    "    print '-', \n",
    "    print '+',\n",
    "    print '-',\n",
    "    print '-', \n",
    "    print '-', \n",
    "    print '-', \n",
    "    print '+', \n",
    "    print '-', \n",
    "    print '-', \n",
    "    print '-', \n",
    "    print '-', \n",
    "    print '+' \n",
    "printyfunc()"
   ]
  },
  {
   "cell_type": "markdown",
   "metadata": {},
   "source": [
    "## Chapter 5.1 - 5.7\n",
    "if and else and elif's all need : to function, otherwise SYNTAX ERRORS\n",
    "also: if you're doing math mixed with integers and floats, don't want rounding -> use float func to change everything, or if you want it all as integers, use int func\n",
    "when you get an error: WHERE is it, and WHAT is it? will help you solve (just like CSS or MATLAB)\n",
    "make sure that recursive functions don't just keep on going forever or else they will hit the recursion limit -> if you're having trouble, draw a stack diagram"
   ]
  },
  {
   "cell_type": "markdown",
   "metadata": {},
   "source": [
    "### Exercise 3  \n",
    "\n",
    "Fermat’s Last Theorem says that there are no positive integers a, b, and c such that $a^n + b^n = c^n$ for any values of n greater than 2.\n",
    "\n",
    "(a) Write a function named `check_fermat` that takes four parameters—a, b, c and n—and that checks to see if Fermat’s theorem holds. If n is greater than 2 and it turns out to be true that\n",
    "$a^n + b^n = c^n$ the program should print, \"Holy smokes, Fermat was wrong!\" Otherwise the program should print, \"No, that doesn’t work.\""
   ]
  },
  {
   "cell_type": "code",
   "execution_count": 53,
   "metadata": {
    "collapsed": false
   },
   "outputs": [
    {
     "name": "stdout",
     "output_type": "stream",
     "text": [
      "No, that doesn't work.\n"
     ]
    }
   ],
   "source": [
    "def check_fermat(a,b,c,n):\n",
    "    import math  \n",
    "    ctothen =  math.pow(c,n)\n",
    "    atothen = math.pow(a,n)\n",
    "    btothen = math.pow(b,n)\n",
    "    tot = atothen + btothen\n",
    "    if ctothen == tot:\n",
    "        print \"Holy smokes, Fermat was wrong!\"\n",
    "    else:\n",
    "        print \"No, that doesn't work.\"\n",
    "check_fermat(10,12,14,2) # just some random checking numbers"
   ]
  },
  {
   "cell_type": "markdown",
   "metadata": {},
   "source": [
    "(b) Write a function that prompts the user to input values for a, b, c and n, converts them to integers, and uses check_fermat to check whether they violate Fermat’s theorem."
   ]
  },
  {
   "cell_type": "code",
   "execution_count": 54,
   "metadata": {
    "collapsed": false
   },
   "outputs": [
    {
     "name": "stdout",
     "output_type": "stream",
     "text": [
      "No, that doesn't work.\n"
     ]
    }
   ],
   "source": [
    "def check_fermat2(a,b,c,n):\n",
    "    import math  \n",
    "    aint = int(a)\n",
    "    bint = int(b)\n",
    "    cint = int(c)\n",
    "    nint = int(n)\n",
    "    ctothen =  math.pow(cint,nint)\n",
    "    atothen = math.pow(aint,nint)\n",
    "    btothen = math.pow(bint,nint)\n",
    "    tot = atothen + btothen\n",
    "    if ctothen == tot:\n",
    "        print \"Holy smokes, Fermat was wrong!\"\n",
    "    else:\n",
    "        print \"No, that doesn't work.\"\n",
    "check_fermat2(10,12,14,2) # just some random checking numbers"
   ]
  },
  {
   "cell_type": "markdown",
   "metadata": {},
   "source": [
    "### Exercise 4  \n",
    "\n",
    "If you are given three sticks, you may or may not be able to arrange them in a triangle. For example, if one of the sticks is 12 inches long and the other two are one inch long, it is clear that you will not be able to get the short sticks to meet in the middle. For any three lengths, there is a simple test to see if it is possible to form a triangle:\n",
    "> If any of the three lengths is greater than the sum of the other two, then you cannot form a triangle. Otherwise, you can. (If the sum of two lengths equals the third, they form what is called a “degenerate” triangle.)\n",
    "\n",
    "(a) Write a function named `is_triangle` that takes three integers as arguments, and that prints either \"Yes\" or \"No,\" depending on whether you can or cannot form a triangle from sticks with the given lengths."
   ]
  },
  {
   "cell_type": "code",
   "execution_count": 57,
   "metadata": {
    "collapsed": false
   },
   "outputs": [
    {
     "name": "stdout",
     "output_type": "stream",
     "text": [
      "Yes\n"
     ]
    }
   ],
   "source": [
    "def is_triangle(a,b,c):\n",
    "    if a> b+c:\n",
    "        print 'No'\n",
    "    elif b>a+c:\n",
    "        print 'No'\n",
    "    elif c>b+a:\n",
    "        print 'No'\n",
    "    else:\n",
    "        print 'Yes'\n",
    "is_triangle(1,1,2) #more random numbers to check\n",
    "        \n",
    "    "
   ]
  },
  {
   "cell_type": "markdown",
   "metadata": {},
   "source": [
    "(b) Write a function that prompts the user to input three stick lengths, converts them to integers, and uses is_triangle to check whether sticks with the given lengths can form a triangle."
   ]
  },
  {
   "cell_type": "code",
   "execution_count": 69,
   "metadata": {
    "collapsed": false
   },
   "outputs": [
    {
     "name": "stdout",
     "output_type": "stream",
     "text": [
      "Please input the first stick length12.1\n",
      "Please input the second stick length1.7\n",
      "Please input the third stick length2.3\n",
      "No\n"
     ]
    }
   ],
   "source": [
    "def is_triangle2():\n",
    "    a = raw_input('Please input the first stick length')\n",
    "    b = raw_input('Please input the second stick length')\n",
    "    c = raw_input('Please input the third stick length')\n",
    "    afloat = float(a)\n",
    "    bfloat = float(b)\n",
    "    cfloat = float(c)\n",
    "    aint = int(afloat)\n",
    "    bint = int(bfloat)\n",
    "    cint = int(cfloat)\n",
    "    def is_triangle(aint,bint,cint):\n",
    "        if a> b+c:\n",
    "            print 'No'\n",
    "        elif b>a+c:\n",
    "            print 'No'\n",
    "        elif c>b+a:\n",
    "            print 'No'\n",
    "        else:\n",
    "            print 'Yes'\n",
    "    is_triangle(aint,bint,cint)\n",
    "is_triangle2()"
   ]
  },
  {
   "cell_type": "markdown",
   "metadata": {},
   "source": [
    "## Notes for the Instructors\n",
    "\n",
    "Please use the space below to write comments to help us plan the next class session.  For instance, if you want to see us go over an example of a particular type of problem, you can indicate that here.\n",
    "\n",
    "Please remember that the best way to get quick feedback from the instructors as well as your peers, is to use Piazza.  However, consider using this channel if it doesn't make sense to post your note to Piazza."
   ]
  },
  {
   "cell_type": "markdown",
   "metadata": {},
   "source": [
    "Please go over chapter 2, ex 3. I got them numerically right but wasn't sure how 'coded' vs 'calculator style' you wanted so I just did them as I would if I was using MATLAB or wolphram as a tool for solving problems. \n",
    "Also you asked for a prompt on chapter 5 ex 4, so I used raw_input but I wasn't sure if you really meant a command line prompt or if you just wanted it to take in the stick lengths as arguements. "
   ]
  }
 ],
 "metadata": {
  "kernelspec": {
   "display_name": "Python 2",
   "language": "python",
   "name": "python2"
  },
  "language_info": {
   "codemirror_mode": {
    "name": "ipython",
    "version": 2
   },
   "file_extension": ".py",
   "mimetype": "text/x-python",
   "name": "python",
   "nbconvert_exporter": "python",
   "pygments_lexer": "ipython2",
   "version": "2.7.11"
  }
 },
 "nbformat": 4,
 "nbformat_minor": 0
}
