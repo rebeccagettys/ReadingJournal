{
 "cells": [
  {
   "cell_type": "markdown",
   "metadata": {},
   "source": [
    "# Day 11 Reading Journal\n",
    "\n",
    "This journal includes several required exercises, but it is meant to encourage active reading more generally.  You should use the journal to take detailed notes, catalog questions, and explore the content from Think Python deeply.\n",
    "\n",
    "Reading: Review Think Python Chapters 15-17\n",
    "\n",
    "**Due: Monday, February 29 at 12 noon**\n",
    "\n"
   ]
  },
  {
   "cell_type": "markdown",
   "metadata": {},
   "source": [
    "## [Chapter 15](http://www.greenteapress.com/thinkpython/html/thinkpython016.html), [Chapter 16](http://www.greenteapress.com/thinkpython/html/thinkpython017.html), [Chapter 17](http://www.greenteapress.com/thinkpython/html/thinkpython018.html)\n",
    "\n",
    "\n",
    "By the end of chapter 17, we have all the tools we need to create our own user-defined types known as classes. In this reading journal, we're asking you to review and solidify your understanding of this material so we can build on it for the rest of the course. \n",
    "\n",
    "If you didn't get a chance to fully complete the Day 10 reading journal, you may want to do so now."
   ]
  },
  {
   "cell_type": "markdown",
   "metadata": {
    "problem": "Terminology"
   },
   "source": [
    "### Terminology\n",
    "\n",
    "You should be familiar with the following list of terms and concepts. If any of them are unclear to you, re-read, ask, write a definition in your own words, and try an example if appropriate.\n",
    "\n",
    " - class\n",
    " - object\n",
    " - instance\n",
    " - attribute\n",
    " - method\n",
    " - shallow vs deep copying\n",
    " - pure functions vs modifiers\n",
    " - initializing object instances\n",
    " "
   ]
  },
  {
   "cell_type": "markdown",
   "metadata": {
    "is_question": true,
    "problem": "Exercise 1"
   },
   "source": [
    "### Exercise\n",
    "\n",
    "We're going to take the first steps toward writing a calendar application. To keep things simple, we'll restrict ourselves to a single day for now. Write an `Event` class with the following attributes:\n",
    "\n",
    " - `name`  : Title for the `Event`\n",
    " - `start` : `Time` object representing the start time for the `Event`\n",
    " - `end`   : `Time` object representing the end time for the `Event`\n",
    "\n",
    "You can also augment your `Event` class with additional attributes, such as location and attendees.\n",
    "\n",
    "Write `__init__` and `__str__` methods for your `Event` class."
   ]
  },
  {
   "cell_type": "code",
   "execution_count": 8,
   "metadata": {
    "collapsed": false,
    "solution": "Exercise 1"
   },
   "outputs": [
    {
     "name": "stdout",
     "output_type": "stream",
     "text": [
      "Time is 12:10:1)\n"
     ]
    }
   ],
   "source": [
    "class Event(object):\n",
    "    def __init__ (self, name, start, end):\n",
    "        self.name = str(name)\n",
    "        self.start = start\n",
    "        self.end = end\n",
    "    def __str__ (self):\n",
    "        return 'An event called {} is scheduled to begin at {} and end at {} )'.format(self.name, self.start, self.end)\n",
    "class Time(object):\n",
    "    def __init__ (self, hour, minute, second):\n",
    "        self.hour = hour\n",
    "        self.minute = minute\n",
    "        self.second = second\n",
    "    def __str__(self):\n",
    "        return 'Time is {}:{}:{}'.format(self.hour, self.minute, self.second)\n",
    "#time1 = Time(12,10,1)\n"
   ]
  },
  {
   "cell_type": "markdown",
   "metadata": {
    "is_question": true,
    "problem": "Exercise 2"
   },
   "source": [
    "### Exercise\n",
    "\n",
    "Write a `duration` method that returns the duration of the `Event` in minutes."
   ]
  },
  {
   "cell_type": "code",
   "execution_count": 21,
   "metadata": {
    "collapsed": false,
    "solution": "Exercise 2"
   },
   "outputs": [
    {
     "name": "stdout",
     "output_type": "stream",
     "text": [
      "<bound method Event.duration of <__main__.Event object at 0x104aeadd0>>\n"
     ]
    }
   ],
   "source": [
    "class Event(object):\n",
    "    def __init__ (self, name, start, end):\n",
    "        self.name = str(name)\n",
    "        self.start = start\n",
    "        self.end = end\n",
    "    def __str__ (self):\n",
    "        return 'An event called {} is scheduled to begin at {} and end at {} )'.format(self.name, self.start, self.end)\n",
    "    def duration(self):\n",
    "        self.start = starting_time\n",
    "        self.end = ending_time\n",
    "        if starting_time.hour == ending_time.hour:\n",
    "            mins = ending_time.minute - starting_time.minute\n",
    "            return mins\n",
    "        elif starting_time.hour < ending_time.hour:\n",
    "            hours = ending_time.hour - starting_time.hour\n",
    "            hourstomin = hours * 60.0\n",
    "            minsonly = ending_time.minute - starting_time.minute\n",
    "            mins = hourstomin + minsonly\n",
    "            return mins\n",
    "        else:\n",
    "            return \"this isn't a valid starting and ending time - did you get them mixed up (things can't end before they've started\"\n",
    "class Time(object):\n",
    "    def __init__ (self, hour, minute, second):\n",
    "        self.hour = float(hour)\n",
    "        self.minute = float(minute)\n",
    "        self.second = float(second)\n",
    "    def __str__(self):\n",
    "        return 'Time is {}:{}:{}'.format(self.hour, self.minute, self.second)\n",
    "time1 = Time(1,30,0)\n",
    "time2 = Time(2,22,22)\n",
    "birthdayparty = Event('Birthday Party', time1, time2)\n",
    "length_bday_party = birthdayparty.duration\n",
    "print length_bday_party"
   ]
  },
  {
   "cell_type": "markdown",
   "metadata": {
    "is_question": true,
    "problem": "Exercise 3"
   },
   "source": [
    "### Exercise\n",
    "\n",
    "Write an `Agenda` class that contains several `Event`s for the day.\n",
    "\n",
    "**Quick check: ** How should you store `Event`s within your `Agenda` class?\n",
    "\n",
    "Your `Agenda` class should include a `print_agenda` method that prints out your schedule for the day, in order.\n",
    "\n",
    "**Optional:** Include a `is_feasible` method that returns `True` if your schedule has no time conflicts. You may want to write additional helper methods for the `Event` class to make this easier."
   ]
  },
  {
   "cell_type": "code",
   "execution_count": 18,
   "metadata": {
    "collapsed": false,
    "solution": "Exercise 3"
   },
   "outputs": [
    {
     "name": "stdout",
     "output_type": "stream",
     "text": [
      "<bound method Agenda.print_agenda of <__main__.Agenda object at 0x104b436d0>>\n"
     ]
    }
   ],
   "source": [
    "class Agenda(object):\n",
    "    def __init__(self,event_list):\n",
    "        self.events = event_list\n",
    "    def print_agenda(self):\n",
    "        all_events = []\n",
    "        all_start_times = []\n",
    "        #http://stackoverflow.com/questions/25150955/python-iterating-through-object-attributes\n",
    "        for event in self.events:\n",
    "            all_events.extend(event) # VALUE = EVENT\n",
    "            for item in all_events:\n",
    "                #print item.start\n",
    "                all_start_times.extend(item.start)\n",
    "                #http://stackoverflow.com/questions/17713873/how-do-i-sort-a-python-list-of-time-values\n",
    "                sorted(all_start_times)\n",
    "                return all_start_times\n",
    "        \n",
    "\n",
    "class Event(object):\n",
    "    def __init__ (self, name, start, end):\n",
    "        self.name = str(name)\n",
    "        self.start = start\n",
    "        self.end = end\n",
    "    def __str__ (self):\n",
    "        return 'An event called {} is scheduled to begin at {} and end at {} )'.format(self.name, self.start, self.end)\n",
    "\n",
    "\n",
    "class Time(object):\n",
    "    def __init__ (self, hour, minute, second):\n",
    "        self.hour = hour\n",
    "        self.minute = minute\n",
    "        self.second = second\n",
    "    def __str__(self):\n",
    "        return 'Time is {}:{}:{}'.format(self.hour, self.minute, self.second)       \n",
    "        \n",
    "    def is_after(t1,t2):\n",
    "        if t1.hour > t2.hour: # we need t1 to be LATER (bigger) than t2\n",
    "            return True\n",
    "        elif t1.hour < t2.hour:\n",
    "            return False\n",
    "        elif t1.hour == t2.hour:\n",
    "            if t1.minute > t2.minute:\n",
    "                return True\n",
    "            elif t1.minute < t2.minute:\n",
    "                return False\n",
    "            elif t1.minute == t2.minute:\n",
    "                if t1.second > t2.second:\n",
    "                    return True\n",
    "                elif t1.second < t2.second:\n",
    "                    return True\n",
    "                elif t1.second == t2.second:\n",
    "                    return 'These two times are exactly the same!'\n",
    "time1 = Time(1,30,0)\n",
    "time2 = Time(2,22,22)\n",
    "time3 = Time(3,45,30)\n",
    "time4 = Time(4,50,55)\n",
    "time5 = Time(5,0,0)\n",
    "time6 = Time (11,46,12)\n",
    "birthdayparty = Event('Birthday Party', time1, time2)\n",
    "movie = Event ('Trip to the Cinema', time3, time4)\n",
    "takenap = Event('Take a Nap', time5, time6)\n",
    "todaysagenda = Agenda([birthdayparty, movie, takenap])\n",
    "list_of_events = todaysagenda.print_agenda\n",
    "print list_of_events"
   ]
  },
  {
   "cell_type": "markdown",
   "metadata": {
    "is_question": true,
    "problem": "Exercise 4"
   },
   "source": [
    "### Going Beyond (optional)\n",
    "\n",
    "Some ideas for taking your application further:\n",
    " - Add people and/or places to the mix to create a scheduling assistant\n",
    " - Extend support for day-of-week or full date. A word of warning: dealing with dates and times in real applications is difficult due to the huge number of special cases (Perfect example: this reading journal is due on Leap Day). Consider using something like the Python [datetime](https://docs.python.org/2/library/datetime.html) module.\n",
    " - Use pickle or some other persistence strategy to save and load your `Agenda`."
   ]
  },
  {
   "cell_type": "code",
   "execution_count": null,
   "metadata": {
    "collapsed": true,
    "solution": "Exercise 4"
   },
   "outputs": [],
   "source": []
  },
  {
   "cell_type": "markdown",
   "metadata": {
    "is_poll": true,
    "is_question": true,
    "problem": "Time spent"
   },
   "source": [
    "## Quick poll\n",
    "About how long did you spend working on this Reading Journal?"
   ]
  },
  {
   "cell_type": "markdown",
   "metadata": {
    "poll_response": true,
    "solution": "Time spent"
   },
   "source": [
    "Around 1 hour. it always takes me way longer than this so please don't make them too much longer (a little longer would be fine) - I think I was just particularly able to pick this set of concepts up without a struggle, YAY! "
   ]
  },
  {
   "cell_type": "markdown",
   "metadata": {
    "is_question": true,
    "problem": "Feedback"
   },
   "source": [
    "## Reading Journal feedback\n",
    "\n",
    "Have any comments on this Reading Journal? Feel free to leave them below and we'll read them when you submit your journal entry. This could include suggestions to improve the exercises, topics you'd like to see covered in class next time, or other feedback.\n",
    "\n",
    "If you have Python questions or run into problems while completing the reading, you should post them to Piazza instead so you can get a quick response before your journal is submitted."
   ]
  },
  {
   "cell_type": "markdown",
   "metadata": {
    "feedback_response": true,
    "solution": "Feedback"
   },
   "source": [
    "Please go over how to return Events in order, I had a hard time with that method.  Also, printing results of a function like one such as duration - I had list_of_events = todaysagenda.print_agenda\n",
    "print list_of_events and then that spat out <bound method Agenda.print_agenda of <__main__.Agenda object at 0x104b436d0>> whereas I was expecting it to spit out mins which is what duration returns. I think this is a __str__ thing but not sure?"
   ]
  }
 ],
 "metadata": {
  "celltoolbar": "Edit Metadata",
  "kernelspec": {
   "display_name": "Python 2",
   "language": "python",
   "name": "python2"
  },
  "language_info": {
   "codemirror_mode": {
    "name": "ipython",
    "version": 2
   },
   "file_extension": ".py",
   "mimetype": "text/x-python",
   "name": "python",
   "nbconvert_exporter": "python",
   "pygments_lexer": "ipython2",
   "version": "2.7.11"
  }
 },
 "nbformat": 4,
 "nbformat_minor": 0
}
