{
 "cells": [
  {
   "cell_type": "markdown",
   "metadata": {},
   "source": [
    "# Day 5 Reading Journal\n",
    "\n",
    "This journal includes several required exercises, but it is meant to encourage active reading more generally.  You should use the journal to take detailed notes, catalog questions, and explore the content from Think Python deeply.\n",
    "\n",
    "Reading: Think Python Chapter 4\n",
    "\n",
    "**Due: Monday, February 8 at 12 noon**\n",
    "\n"
   ]
  },
  {
   "cell_type": "markdown",
   "metadata": {},
   "source": [
    "## [Chapter 4](http://www.greenteapress.com/thinkpython/html/thinkpython005.html)\n",
    "\n",
    "In today's reading, you'll be exploring TurtleWorld!\n",
    "TurtleWorld is part of the [swampy](http://www.greenteapress.com/thinkpython/swampy/) package, written by Allen Downey.\n",
    "As part of the [Get Set](https://sites.google.com/site/sd16spring/home/assignments-and-mini-projects/setup-your-environment) assignment, you installed the swampy package using the pip Python package management tool. If you somehow missed that step or you see errors when you try to import TurtleWorld, you can install swampy by running:\n",
    "\n",
    "```\n",
    "sudo pip install swampy\n",
    "```\n",
    "\n",
    "at the command line.\n",
    "\n",
    "### Turtle wrangling\n",
    "\n",
    "You can always run your code as separate Python scripts, but here are a few tips for mixing TurtleWorld with Jupyter notebook:\n",
    "\n",
    " - TurtleWorld will appear in a new GUI window, rather than inline in the notebook like typical results do\n",
    " - You will not be able to close the TurtleWorld window unless you run `wait_for_user()` as the last line of your code.\n",
    " - Jupyter notebook works like one big Python script, even though it is broken up into sections. This means that you could create a Turtle in one cell, move it in a later cell, and then `wait_for_user()` in yet another. Despite this, it might be easier to treat each cell in this assignment as a separate script, creating a new world at the beginning and destroying it at the end of each."
   ]
  },
  {
   "cell_type": "markdown",
   "metadata": {},
   "source": [
    "### Get started\n",
    "\n",
    "Run the code in the cell below and make sure everything works. You should see brave Alice spring into the world and run forward. You can close the window when you're done by clicking on the 'X'. If this simple test doesn't work, check your swampy install (especially if you get an `ImportError`) and ask for help."
   ]
  },
  {
   "cell_type": "code",
   "execution_count": 1,
   "metadata": {
    "collapsed": true
   },
   "outputs": [],
   "source": [
    "from swampy.TurtleWorld import *\n",
    "\n",
    "# Create the world, and a turtle to put in it\n",
    "world = TurtleWorld()\n",
    "alice = Turtle()\n",
    "\n",
    "# Get moving, turtle!\n",
    "fd(alice, 50)\n",
    "\n",
    "# Wait for the user to close the window\n",
    "wait_for_user()"
   ]
  },
  {
   "cell_type": "markdown",
   "metadata": {
    "is_question": true,
    "problem": "Section 4.3"
   },
   "source": [
    "### Section 4.3 exercises\n",
    "Work through exercises 1-5 in Section 4.3, creating the `square`, `polygon`, `circle`, and `arc` functions. You can reference Allen's solutions, but please try the problems on your own first."
   ]
  },
  {
   "cell_type": "code",
   "execution_count": 10,
   "metadata": {
    "collapsed": false,
    "solution": "Section 4.3"
   },
   "outputs": [],
   "source": [
    "from swampy.TurtleWorld import *\n",
    "\n",
    "# Create the world, and a turtle to put in it\n",
    "world = TurtleWorld()\n",
    "alice = Turtle()\n",
    "\n",
    "# Get moving, turtle!\n",
    "fd(alice, 50)\n",
    "\n",
    "def square(turtle, length):\n",
    "    for n in range(4):\n",
    "        fd(turtle,length)\n",
    "        rt(turtle)\n",
    "#square(alice, 100)\n",
    "\n",
    "#poly is degree of polygon\n",
    "def polygon(turtle, length, poly, turnangle):\n",
    "    for n in range(poly):\n",
    "        fd(turtle, length)\n",
    "        rt(turtle, turnangle)\n",
    "        #turnangle = 360/poly   # we had to kill this being built in so that circle can work\n",
    "#polygon(alice,100, 5, (360/5))\n",
    "\n",
    "\n",
    "def circle(turtle, radius): #had a hard time with this and the arc, followed allen's code\n",
    "    # my initial idea was polygon(turtle,1,360, 360) which wasn't quite right\n",
    "    import math\n",
    "    turtle.delay = 0.01 \n",
    "    # modified from alan's because mine doesn't have a reasonable radius\n",
    "    arc_length = 2 * math.pi * radius\n",
    "    n = int(arc_length / 4) + 1 # number of steps\n",
    "    step_length = arc_length / n\n",
    "    step_angle = 360.0 / n\n",
    "    polygon(alice, step_length,n, step_angle)\n",
    "#circle (alice, 10)\n",
    "\n",
    "def arc(turtle, radius, angle):\n",
    "    import math\n",
    "    turtle.delay = .01\n",
    "    arc_length = 2 * math.pi * radius * abs(angle)/360# if I do (abs(angle)/360) it breakks unless the value of angle = 360, why??? \n",
    "    n = int(arc_length / 4) + 1 # number of steps\n",
    "    step_length = arc_length / n # make sure you have right length of step\n",
    "    step_angle = float(angle) / n #angle of each\n",
    "    polygon(alice, step_length,n, step_angle)\n",
    "arc(alice,100,300)\n",
    "\n",
    "# Wait for the user to close the window\n",
    "wait_for_user()\n",
    "\n",
    "\n"
   ]
  },
  {
   "cell_type": "markdown",
   "metadata": {
    "is_question": true,
    "problem": "More fun"
   },
   "source": [
    "### Exercise: More fun with Turtles!\n",
    "Complete at least one of Exercise 2, 3, 4, or 5. If you come up with some cool drawings you'd like to share with the rest of the class, let us know!"
   ]
  },
  {
   "cell_type": "code",
   "execution_count": 2,
   "metadata": {
    "collapsed": false,
    "solution": "More fun"
   },
   "outputs": [],
   "source": [
    "from swampy.TurtleWorld import *\n",
    "import math\n",
    "\n",
    "# Create the world, and a turtle to put in it\n",
    "world = TurtleWorld()\n",
    "alice = Turtle()\n",
    "\n",
    "# Get moving, turtle!\n",
    "fd(alice, 50)\n",
    "alice.delay = .00001\n",
    "def spiral (turtle, numberofsteps, length, a, b):\n",
    "    theta = float(0) #to start\n",
    "    for value in range(numberofsteps): #do this until we go n steps\n",
    "        thetachange = 1 /  (a+ b*theta)      #following along with the idea from allen's code\n",
    "        theta = theta + thetachange # this is needed to FIND thetachange\n",
    "        fd(turtle,length)\n",
    "        rt(turtle,thetachange) # I want a right turning spiral \n",
    "#spiral (alice, 1000, 1, .01, .01)\n",
    "\n",
    "def fermatsspiral (turtle, numberofsteps, length):\n",
    "    theta = float(1) #to start, can't take sqrt of zero\n",
    "    for value in range(numberofsteps): #do this until we go n steps\n",
    "        thetachange = 1 /  (math.sqrt(theta))      #following along with the idea from allen's code\n",
    "        theta = theta + thetachange # this is needed to FIND thetachange\n",
    "        fd(turtle,length)\n",
    "        rt(turtle,thetachange) # I want a right turning spiral \n",
    "fermatsspiral (alice, 1000, .1)\n",
    "\n",
    "wait_for_user()\n",
    "\n"
   ]
  },
  {
   "cell_type": "markdown",
   "metadata": {},
   "source": [
    "## Reading Journal feedback\n",
    "\n",
    "\n",
    "Dear instructors:\n",
    "I was able to do this but I did need to read through and do the same as Allen's code for the circle and arc and spiral (although I did write it out and try messing around with it on my own) for them to work, although I was then able to do fermat's spiral on my own. I felt like I learned a ton by thinking about it and then trying it and following Allen's code, but I also feel like I wish I had been able to figure it out 100% on my own with no help - there was no way that I could fully conceptualize how to do the circle without looking through and working through his example code."
   ]
  },
  {
   "cell_type": "markdown",
   "metadata": {},
   "source": [
    " "
   ]
  }
 ],
 "metadata": {
  "kernelspec": {
   "display_name": "Python 2",
   "language": "python",
   "name": "python2"
  },
  "language_info": {
   "codemirror_mode": {
    "name": "ipython",
    "version": 2
   },
   "file_extension": ".py",
   "mimetype": "text/x-python",
   "name": "python",
   "nbconvert_exporter": "python",
   "pygments_lexer": "ipython2",
   "version": "2.7.11"
  }
 },
 "nbformat": 4,
 "nbformat_minor": 0
}
