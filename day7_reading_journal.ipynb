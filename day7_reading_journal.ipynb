{
 "cells": [
  {
   "cell_type": "markdown",
   "metadata": {},
   "source": [
    "# Day 7 Reading Journal\n",
    "\n",
    "This journal includes several required exercises, but it is meant to encourage active reading more generally.  You should use the journal to take detailed notes, catalog questions, and explore the content from Think Python deeply.\n",
    "\n",
    "Reading: Think Python Chapter 11, 12\n",
    "\n",
    "**Due: Thursday, February 18 at 12 noon**\n",
    "\n"
   ]
  },
  {
   "cell_type": "markdown",
   "metadata": {},
   "source": [
    "## [Chapter 11](http://www.greenteapress.com/thinkpython/html/thinkpython012.html)\n"
   ]
  },
  {
   "cell_type": "markdown",
   "metadata": {},
   "source": [
    "**Quick check:** In about one sentence using your own words, what is a dictionary?"
   ]
  },
  {
   "cell_type": "markdown",
   "metadata": {},
   "source": [
    "It is a list-like mapping between a key and a value, called an item - if you input the key, you get the value. "
   ]
  },
  {
   "cell_type": "markdown",
   "metadata": {
    "is_question": true,
    "problem": "Exercise 11.2"
   },
   "source": [
    "### Exercise 2  \n",
    "\n",
    "Dictionaries have a [method called `get`](https://docs.python.org/2/library/stdtypes.html#mapping-types-dict) that takes a key and a default value. If the key appears in the dictionary, `get` returns the corresponding value; otherwise it returns the default value. For example:\n",
    "\n",
    "```\n",
    ">>> h = histogram('a')\n",
    ">>> print h\n",
    "{'a': 1}\n",
    ">>> h.get('a', 0)\n",
    "1\n",
    ">>> h.get('b', 0)\n",
    "0\n",
    "```\n",
    "\n",
    "Use `get` to write `histogram` more concisely. You should be able to eliminate the `if` statement. Add unit tests for your histogram implementation."
   ]
  },
  {
   "cell_type": "code",
   "execution_count": 13,
   "metadata": {
    "collapsed": false,
    "solution": "Exercise 11.2"
   },
   "outputs": [
    {
     "name": "stdout",
     "output_type": "stream",
     "text": [
      "{}\n",
      "{'a': 1}\n",
      "{'a': 1, 'p': 1}\n",
      "{'a': 1, 'p': 2}\n",
      "{'a': 1, 'p': 2, 'l': 1}\n"
     ]
    },
    {
     "data": {
      "text/plain": [
       "{'a': 1, 'e': 1, 'l': 1, 'p': 2}"
      ]
     },
     "execution_count": 13,
     "metadata": {},
     "output_type": "execute_result"
    }
   ],
   "source": [
    "def histogram(s):\n",
    "    d = dict()\n",
    "    for c in s:\n",
    "        print d\n",
    "        current_val = d.get(c,0)\n",
    "        val = current_val + 1\n",
    "        d[c] = val\n",
    "    return d\n",
    "histogram('apple') #{'a': 1, 'p': 2, 'l':1, 'e':1}\n",
    "#histogram('ant') #{'a': 1, 'n': 1, 't':1}\n"
   ]
  },
  {
   "cell_type": "markdown",
   "metadata": {
    "is_question": true,
    "problem": "Exercise 11.4"
   },
   "source": [
    "### Exercise 4  \n",
    "\n",
    "Modify `reverse_lookup` so that it builds and returns a list of all keys that map to `v`, or an empty list if there are none. Add unit tests for your implementation."
   ]
  },
  {
   "cell_type": "code",
   "execution_count": 26,
   "metadata": {
    "collapsed": false,
    "solution": "Exercise 11.4"
   },
   "outputs": [
    {
     "data": {
      "text/plain": [
       "['tres', 'three']"
      ]
     },
     "execution_count": 26,
     "metadata": {},
     "output_type": "execute_result"
    }
   ],
   "source": [
    "d = {'one': '1', 'two': '2', 'three': '3', 'tres':'3'}\n",
    "v = '3'\n",
    "def reverse_lookup(d, v):\n",
    "    allkeys = []\n",
    "    for k in d: #for each key in the dictionary\n",
    "        if d[k] == v: #if the key is equal to the value we are looking for\n",
    "            #return k \n",
    "            allkeys.append(k)\n",
    "    return allkeys\n",
    "    raise ValueError\n",
    "reverse_lookup(d, v)\n",
    "    "
   ]
  },
  {
   "cell_type": "markdown",
   "metadata": {},
   "source": [
    "If you'd like to learn more about errors and exceptions, you can check out the [Python tutorial](https://docs.python.org/2/tutorial/errors.html) or read ahead to [Appendix A](http://www.greenteapress.com/thinkpython/html/thinkpython021.html) of Think Python. If you choose to use doctest for your unit testing, it can also [deal with exceptions](https://docs.python.org/2/library/doctest.html#what-about-exceptions)."
   ]
  },
  {
   "cell_type": "markdown",
   "metadata": {},
   "source": [
    "**Quick check** What type of objects can be used as keys to a dictionary, i.e. what property must they have?"
   ]
  },
  {
   "cell_type": "markdown",
   "metadata": {},
   "source": [
    "Keys to a dictionary must be hashable - they must be immutable (aka, NOT A LIST), like strings or tuples (not lists or variables, which are mutable). "
   ]
  },
  {
   "cell_type": "markdown",
   "metadata": {
    "is_question": true,
    "problem": "Exercise 11.6"
   },
   "source": [
    "### Exercise 6 (modified)\n",
    "\n",
    "Create a memoized version of your Levenshtein distance function from Day 7. What kind of performance change do you see?\n",
    "\n",
    "Optional: If you'd like to get some quantitative results, you could check out the [timeit](https://docs.python.org/2/library/timeit.html) module\n",
    "\n",
    "Note: You can also study Fibonacci here if you prefer."
   ]
  },
  {
   "cell_type": "code",
   "execution_count": 33,
   "metadata": {
    "collapsed": false,
    "solution": "Exercise 11.6"
   },
   "outputs": [
    {
     "data": {
      "text/plain": [
       "1"
      ]
     },
     "execution_count": 33,
     "metadata": {},
     "output_type": "execute_result"
    }
   ],
   "source": [
    "def fib(iterate):\n",
    "        #if iterate == 0:\n",
    "        #    return 0\n",
    "        #elif iterate ==1:\n",
    "        #    return 1\n",
    "        known = {0:0, 1:1} # basecases\n",
    "        if iterate in known:\n",
    "            return known[iterate]\n",
    "        else:\n",
    "            newfib = fib(iterate -1 ) + fib(iterate-2)\n",
    "            known[iterate] = newfib\n",
    "            return newfib\n",
    "#fib(10) #should be 55\n",
    "fib(2) #should be 1"
   ]
  },
  {
   "cell_type": "markdown",
   "metadata": {},
   "source": [
    "## [Chapter 12](http://www.greenteapress.com/thinkpython/html/thinkpython013.html)\n",
    "\n",
    "**Quick check:** In about one sentence using your own words, what is a tuple?"
   ]
  },
  {
   "cell_type": "markdown",
   "metadata": {},
   "source": [
    "A sequence of values! "
   ]
  },
  {
   "cell_type": "markdown",
   "metadata": {
    "is_question": true,
    "problem": "Exercise 12.1"
   },
   "source": [
    "### Exercise 1  \n",
    "\n",
    "Many of the built-in functions use variable-length argument tuples. For example, `max` and `min` can take any number of arguments:\n",
    "\n",
    "```\n",
    ">>> max(1,2,3)\n",
    "3\n",
    "```\n",
    "\n",
    "But `sum` does not.\n",
    "\n",
    "```\n",
    ">>> sum(1,2,3)\n",
    "TypeError: sum expected at most 2 arguments, got 3\n",
    "```\n",
    "\n",
    "Write a function called ```sumall``` that takes any number of arguments and returns their sum. \n",
    "\n",
    "Write unit tests for your function. Do I actually need to keep saying this? Let's assume it's always a good idea :)"
   ]
  },
  {
   "cell_type": "code",
   "execution_count": 40,
   "metadata": {
    "collapsed": false,
    "solution": "Exercise 12.1"
   },
   "outputs": [
    {
     "ename": "TypeError",
     "evalue": "'int' object is not iterable",
     "output_type": "error",
     "traceback": [
      "\u001b[0;31m---------------------------------------------------------------------------\u001b[0m",
      "\u001b[0;31mTypeError\u001b[0m                                 Traceback (most recent call last)",
      "\u001b[0;32m<ipython-input-40-eb7885405a0c>\u001b[0m in \u001b[0;36m<module>\u001b[0;34m()\u001b[0m\n\u001b[1;32m      5\u001b[0m         \u001b[0;32mreturn\u001b[0m \u001b[0msum\u001b[0m\u001b[0;34m\u001b[0m\u001b[0m\n\u001b[1;32m      6\u001b[0m \u001b[0;31m#arg_tuple = (1,3,4,6)\u001b[0m\u001b[0;34m\u001b[0m\u001b[0;34m\u001b[0m\u001b[0m\n\u001b[0;32m----> 7\u001b[0;31m \u001b[0msumall\u001b[0m\u001b[0;34m(\u001b[0m\u001b[0;36m1\u001b[0m\u001b[0;34m,\u001b[0m\u001b[0;36m3\u001b[0m\u001b[0;34m,\u001b[0m\u001b[0;36m4\u001b[0m\u001b[0;34m,\u001b[0m\u001b[0;36m6\u001b[0m\u001b[0;34m)\u001b[0m \u001b[0;31m#should be 14\u001b[0m\u001b[0;34m\u001b[0m\u001b[0m\n\u001b[0m",
      "\u001b[0;32m<ipython-input-40-eb7885405a0c>\u001b[0m in \u001b[0;36msumall\u001b[0;34m(*arg_tuple)\u001b[0m\n\u001b[1;32m      1\u001b[0m \u001b[0;32mdef\u001b[0m \u001b[0msumall\u001b[0m\u001b[0;34m(\u001b[0m\u001b[0;34m*\u001b[0m\u001b[0marg_tuple\u001b[0m\u001b[0;34m)\u001b[0m\u001b[0;34m:\u001b[0m\u001b[0;34m\u001b[0m\u001b[0m\n\u001b[1;32m      2\u001b[0m     \u001b[0msum\u001b[0m \u001b[0;34m=\u001b[0m \u001b[0;36m0\u001b[0m \u001b[0;31m#just to start\u001b[0m\u001b[0;34m\u001b[0m\u001b[0m\n\u001b[0;32m----> 3\u001b[0;31m     \u001b[0;32mfor\u001b[0m \u001b[0melement\u001b[0m \u001b[0;32min\u001b[0m \u001b[0mlen\u001b[0m\u001b[0;34m(\u001b[0m\u001b[0marg_tuple\u001b[0m\u001b[0;34m)\u001b[0m\u001b[0;34m:\u001b[0m\u001b[0;34m\u001b[0m\u001b[0m\n\u001b[0m\u001b[1;32m      4\u001b[0m         \u001b[0msum\u001b[0m \u001b[0;34m=\u001b[0m \u001b[0marg_tuple\u001b[0m\u001b[0;34m[\u001b[0m\u001b[0melement\u001b[0m\u001b[0;34m]\u001b[0m \u001b[0;34m+\u001b[0m \u001b[0marg_tuple\u001b[0m\u001b[0;34m[\u001b[0m\u001b[0melement\u001b[0m\u001b[0;34m-\u001b[0m\u001b[0;36m1\u001b[0m\u001b[0;34m]\u001b[0m\u001b[0;34m\u001b[0m\u001b[0m\n\u001b[1;32m      5\u001b[0m         \u001b[0;32mreturn\u001b[0m \u001b[0msum\u001b[0m\u001b[0;34m\u001b[0m\u001b[0m\n",
      "\u001b[0;31mTypeError\u001b[0m: 'int' object is not iterable"
     ]
    }
   ],
   "source": [
    "def sumall(*arg_tuple):\n",
    "    sum = 0 #just to start\n",
    "    for element in len(arg_tuple):\n",
    "        sum = arg_tuple[element] + arg_tuple[element-1]\n",
    "        return sum\n",
    "#arg_tuple = (1,3,4,6)\n",
    "sumall(1,3,4,6) #should be 14"
   ]
  },
  {
   "cell_type": "markdown",
   "metadata": {},
   "source": [
    "If you're interested in more flexible ways to pass arguments to functions, check out the [Python tutorial](https://docs.python.org/2/tutorial/controlflow.html#more-on-defining-functions). For instance, you can also use keyword arguments, which are collected into a dictionary just like `*` gathers variable numbers of positional arguments into a tuple.\n",
    "\n",
    "This pattern is very common for defining functions with complex optional behaviors in Python, and you will often see definitions like:\n",
    "\n",
    "```\n",
    "def my_func(required_argument1, *arguments, **keywords):\n",
    "    ...\n",
    "```"
   ]
  },
  {
   "cell_type": "markdown",
   "metadata": {
    "is_question": true,
    "problem": "Exercise 12 sort"
   },
   "source": [
    "### Exercise\n",
    "\n",
    "Write a function `sort_by_last_letter` that takes a list of words and returns a new list with the words sorted alphabetically by the _last letter_ in the word. Hint: use the **Decorate, Sort, Undecorate** pattern. Write unit tests for your function."
   ]
  },
  {
   "cell_type": "code",
   "execution_count": null,
   "metadata": {
    "collapsed": true,
    "solution": "Exercise 12 sort"
   },
   "outputs": [],
   "source": []
  },
  {
   "cell_type": "markdown",
   "metadata": {},
   "source": [
    "**Quick check** Give an example of when you might use each sequence type:\n",
    "\n",
    "- tuple\n",
    "\n",
    "- list\n",
    "\n",
    "- string"
   ]
  },
  {
   "cell_type": "markdown",
   "metadata": {},
   "source": [
    " "
   ]
  },
  {
   "cell_type": "markdown",
   "metadata": {
    "is_question": true,
    "problem": "Exercise 12.3"
   },
   "source": [
    "### Exercise 3  \n",
    "\n",
    "Write a function called `most_frequent` that takes a string and prints the letters in decreasing order of frequency. Find text samples from several different languages and see how letter frequency varies between languages. Compare your results with the tables at http://en.wikipedia.org/wiki/Letter_frequencies. \n",
    "\n",
    "Allen's solution (try it on your own first): http://thinkpython.com/code/most_frequent.py. "
   ]
  },
  {
   "cell_type": "code",
   "execution_count": null,
   "metadata": {
    "collapsed": true,
    "solution": "Exercise 12.3"
   },
   "outputs": [],
   "source": []
  },
  {
   "cell_type": "markdown",
   "metadata": {
    "is_question": true,
    "problem": "Exercise 12.6"
   },
   "source": [
    "### Challenge: Exercise 6   (optional)\n",
    "\n",
    "From a [Car Talk Puzzler](http://www.cartalk.com/content/puzzlers):\n",
    "\n",
    "What is the longest English word, that remains a valid English word, as you remove its letters one at a time?\n",
    "\n",
    "Now, letters can be removed from either end, or the middle, but you can’t rearrange any of the letters. Every time you drop a letter, you wind up with another English word. If you do that, you’re eventually going to wind up with one letter and that too is going to be an English word—one that’s found in the dictionary. I want to know what’s the longest word and how many letters does it have?\n",
    "\n",
    "I’m going to give you a little modest example: Sprite. Ok? You start off with sprite, you take a letter off, one from the interior of the word, take the r away, and we’re left with the word spite, then we take the e off the end, we’re left with spit, we take the s off, we’re left with pit, it, and I. \n",
    "\n",
    "Write a program to find all words that can be reduced in this way, and then find the longest one.\n",
    "\n",
    "This exercise is a little more challenging than most, so here are some suggestions:\n",
    "\n",
    "- You might want to write a function that takes a word and computes a list of all the words that can be formed by removing one letter. These are the “children” of the word.\n",
    "- Recursively, a word is reducible if any of its children are reducible. As a base case, you can consider the empty string reducible.\n",
    "- The word list from [Chapter 9.1](http://www.greenteapress.com/thinkpython/html/thinkpython010.html) Exercise 1 doesn’t contain single letter words. So you might want to add “I”, “a”, and the empty string.\n",
    "- To improve the performance of your program, you might want to memoize the words that are known to be reducible.\n",
    "\n",
    "Allen's solution: http://thinkpython.com/code/reducible.py."
   ]
  },
  {
   "cell_type": "code",
   "execution_count": null,
   "metadata": {
    "collapsed": true,
    "solution": "Exercise 12.6"
   },
   "outputs": [],
   "source": []
  },
  {
   "cell_type": "markdown",
   "metadata": {
    "is_question": true,
    "problem": "Feedback"
   },
   "source": [
    "## Reading Journal feedback\n",
    "\n",
    "Have any comments on this Reading Journal? Feel free to leave them below and we'll read them when you submit your journal entry. This could include suggestions to improve the exercises, topics you'd like to see covered in class next time, or other feedback.\n",
    "\n",
    "If you have Python questions or run into problems while completing the reading, you should post them to Piazza instead so you can get a quick response before your journal is submitted."
   ]
  },
  {
   "cell_type": "markdown",
   "metadata": {
    "feedback_response": true,
    "solution": "Feedback"
   },
   "source": [
    "I spent a long time on understanding chapter 11 and integrating it with my understanding of recursion! I am feeling a lot better about it but I didn't finish the reading journal by noon completely (will be done by class though) because I really wanted to make sure my understanding was totally solid. Sorry! "
   ]
  }
 ],
 "metadata": {
  "celltoolbar": "Edit Metadata",
  "kernelspec": {
   "display_name": "Python 2",
   "language": "python",
   "name": "python2"
  },
  "language_info": {
   "codemirror_mode": {
    "name": "ipython",
    "version": 2
   },
   "file_extension": ".py",
   "mimetype": "text/x-python",
   "name": "python",
   "nbconvert_exporter": "python",
   "pygments_lexer": "ipython2",
   "version": "2.7.11"
  }
 },
 "nbformat": 4,
 "nbformat_minor": 0
}
